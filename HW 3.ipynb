{
 "cells": [
  {
   "cell_type": "code",
   "execution_count": 3,
   "metadata": {},
   "outputs": [
    {
     "data": {
      "text/plain": [
       "279.32162537285967"
      ]
     },
     "execution_count": 3,
     "metadata": {},
     "output_type": "execute_result"
    }
   ],
   "source": [
    "#Orbital height code\n",
    "import numpy as np\n",
    "def time(t):\n",
    "    T=t*60\n",
    "    G = 6.67*10**-11\n",
    "    M = 5.97*10**24\n",
    "    R = 6371*1000\n",
    "    h = (((G*M*(T**2))/(4*((np.pi)**2)))**(1/3))-R\n",
    "    return h/1000\n",
    "time(90)"
   ]
  },
  {
   "cell_type": "code",
   "execution_count": 37,
   "metadata": {},
   "outputs": [
    {
     "name": "stdout",
     "output_type": "stream",
     "text": [
      "0 1.0 1.0\n",
      "10 4.5399929433607724e-05 4.5399929762484854e-05\n",
      "20 5.47810291652921e-10 2.061153622438558e-09\n",
      "30 -8.553016433669241e-05 9.357622968840175e-14\n",
      "40 0.1470264494805502 4.248354255291589e-18\n",
      "50 -7015.776232597128 1.9287498479639178e-22\n",
      "60 -1223051118.0619795 8.75651076269652e-27\n",
      "70 15141759713408.848 3.975449735908647e-31\n",
      "80 6.772465846238849e+17 1.8048513878454153e-35\n",
      "90 -7.884988118863822e+21 8.194012623990515e-40\n",
      "100 -2.8756582514726483e+26 3.720075976020836e-44\n",
      "0 1.0 1.0\n",
      "10 4.539992967040021e-05 4.5399929762484854e-05\n",
      "20 6.147561828914626e-09 2.061153622438558e-09\n",
      "30 6.1030424788918156e-06 9.357622968840175e-14\n",
      "40 0.3116951588217358 4.248354255291589e-18\n",
      "50 2041.8329628976246 1.9287498479639178e-22\n",
      "60 722745700.9303185 8.75651076269652e-27\n",
      "70 4594081207253.4 3.975449735908647e-31\n",
      "80 2.4508201170456323e+17 1.8048513878454153e-35\n",
      "90 -5.865799310261735e+21 8.194012623990515e-40\n",
      "100 8.144652745098073e+25 3.720075976020836e-44\n",
      "0 -1.0 1.0\n",
      "10 -4.539992976248486e-05 4.5399929762484854e-05\n",
      "20 -2.0611536224385583e-09 2.061153622438558e-09\n",
      "30 -9.357622968840171e-14 9.357622968840175e-14\n",
      "40 -4.24835425529159e-18 4.248354255291589e-18\n",
      "50 -1.9287498479639164e-22 1.9287498479639178e-22\n",
      "60 -8.75651076269652e-27 8.75651076269652e-27\n",
      "70 -3.975449735908648e-31 3.975449735908647e-31\n",
      "80 -1.8048513878454156e-35 1.8048513878454153e-35\n",
      "90 -8.194012623990511e-40 8.194012623990515e-40\n",
      "100 -3.7200759760208356e-44 3.720075976020836e-44\n"
     ]
    }
   ],
   "source": [
    "#Example of loss of precision: e**x with np.exp(-x)\n",
    "\n",
    "#Simple\n",
    "for x in range(0,101,10):\n",
    "    simple = 0.0\n",
    "    for n in range(1000):\n",
    "        simple += (((-1)**n)*((x**n)/np.math.factorial(n)))\n",
    "    simple = print (x, simple, np.exp(-x))\n",
    "    \n",
    "#recursion\n",
    "def sn(n,x):\n",
    "    if n==0:\n",
    "        return 1\n",
    "    else:\n",
    "        return sn(n-1,x)*(-x/n)\n",
    "for x in range (0, 101, 10):\n",
    "    sm = 0\n",
    "    for n in range(1000):\n",
    "        sm += sn(n,x)\n",
    "    recursion = print (x, sm, np.exp(-x))\n",
    "    \n",
    "#Inverse\n",
    "for x in range(0,101,10):\n",
    "    inverse = 0.0\n",
    "    for n in range(1000):\n",
    "        inverse += (-((x**n)/np.math.factorial(n)))\n",
    "    inverse = print (x, 1/inverse, np.exp(-x))"
   ]
  },
  {
   "cell_type": "code",
   "execution_count": null,
   "metadata": {},
   "outputs": [],
   "source": []
  }
 ],
 "metadata": {
  "kernelspec": {
   "display_name": "Python 3",
   "language": "python",
   "name": "python3"
  },
  "language_info": {
   "codemirror_mode": {
    "name": "ipython",
    "version": 3
   },
   "file_extension": ".py",
   "mimetype": "text/x-python",
   "name": "python",
   "nbconvert_exporter": "python",
   "pygments_lexer": "ipython3",
   "version": "3.7.3"
  }
 },
 "nbformat": 4,
 "nbformat_minor": 2
}
